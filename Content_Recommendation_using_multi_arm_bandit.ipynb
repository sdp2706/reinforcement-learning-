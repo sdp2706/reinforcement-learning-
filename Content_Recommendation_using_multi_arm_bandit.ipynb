{
  "nbformat": 4,
  "nbformat_minor": 0,
  "metadata": {
    "colab": {
      "provenance": [],
      "authorship_tag": "ABX9TyNDNKzBLAMWojA1RilVXHv+",
      "include_colab_link": true
    },
    "kernelspec": {
      "name": "python3",
      "display_name": "Python 3"
    },
    "language_info": {
      "name": "python"
    }
  },
  "cells": [
    {
      "cell_type": "markdown",
      "metadata": {
        "id": "view-in-github",
        "colab_type": "text"
      },
      "source": [
        "<a href=\"https://colab.research.google.com/github/sdp2706/reinforcement-learning-/blob/main/Content_Recommendation_using_multi_arm_bandit.ipynb\" target=\"_parent\"><img src=\"https://colab.research.google.com/assets/colab-badge.svg\" alt=\"Open In Colab\"/></a>"
      ]
    },
    {
      "cell_type": "markdown",
      "source": [
        "**Question**\n",
        "\n",
        "**Content Recommendation using multi arm bandit approach**"
      ],
      "metadata": {
        "id": "aZk_lMJtZTeB"
      }
    },
    {
      "cell_type": "markdown",
      "source": [
        "**importing necessary libraries**\n",
        "\n",
        "NumPy for numerical operations, Pandas for data manipulation, and Matplotlib for data visualization"
      ],
      "metadata": {
        "id": "FAkeFYDSVY6E"
      }
    },
    {
      "cell_type": "code",
      "source": [
        "#importing necessary libraries\n",
        "import numpy as np\n",
        "import pandas as pd\n",
        "import matplotlib.pyplot as plt"
      ],
      "metadata": {
        "id": "exsPF-3vPU7s"
      },
      "execution_count": 1,
      "outputs": []
    },
    {
      "cell_type": "markdown",
      "source": [
        "**Loading required data**"
      ],
      "metadata": {
        "id": "YqMh355VVpnY"
      }
    },
    {
      "cell_type": "code",
      "source": [
        "# Loading required data\n",
        "from google.colab import drive\n",
        "drive.mount('/content/gdrive')\n",
        "directory_root ='/content/gdrive/MyDrive/archive/anime.csv'\n",
        "anime_data = pd.read_csv(directory_root)"
      ],
      "metadata": {
        "colab": {
          "base_uri": "https://localhost:8080/"
        },
        "id": "bJKAsimnT2Zs",
        "outputId": "63a2cd60-31fa-4eea-c389-5d729b9e0b8f"
      },
      "execution_count": 13,
      "outputs": [
        {
          "output_type": "stream",
          "name": "stdout",
          "text": [
            "Drive already mounted at /content/gdrive; to attempt to forcibly remount, call drive.mount(\"/content/gdrive\", force_remount=True).\n"
          ]
        }
      ]
    },
    {
      "cell_type": "code",
      "source": [
        "anime_data"
      ],
      "metadata": {
        "colab": {
          "base_uri": "https://localhost:8080/",
          "height": 423
        },
        "id": "yKFjmXATUrpP",
        "outputId": "12d7387a-90c2-48ea-b34b-986c18dd06ab"
      },
      "execution_count": 5,
      "outputs": [
        {
          "output_type": "execute_result",
          "data": {
            "text/plain": [
              "       anime_id                                               name  \\\n",
              "0         32281                                     Kimi no Na wa.   \n",
              "1          5114                   Fullmetal Alchemist: Brotherhood   \n",
              "2         28977                                           Gintama°   \n",
              "3          9253                                        Steins;Gate   \n",
              "4          9969                                      Gintama&#039;   \n",
              "...         ...                                                ...   \n",
              "12289      9316       Toushindai My Lover: Minami tai Mecha-Minami   \n",
              "12290      5543                                        Under World   \n",
              "12291      5621                     Violence Gekiga David no Hoshi   \n",
              "12292      6133  Violence Gekiga Shin David no Hoshi: Inma Dens...   \n",
              "12293     26081                   Yasuji no Pornorama: Yacchimae!!   \n",
              "\n",
              "                                                   genre   type episodes  \\\n",
              "0                   Drama, Romance, School, Supernatural  Movie        1   \n",
              "1      Action, Adventure, Drama, Fantasy, Magic, Mili...     TV       64   \n",
              "2      Action, Comedy, Historical, Parody, Samurai, S...     TV       51   \n",
              "3                                       Sci-Fi, Thriller     TV       24   \n",
              "4      Action, Comedy, Historical, Parody, Samurai, S...     TV       51   \n",
              "...                                                  ...    ...      ...   \n",
              "12289                                             Hentai    OVA        1   \n",
              "12290                                             Hentai    OVA        1   \n",
              "12291                                             Hentai    OVA        4   \n",
              "12292                                             Hentai    OVA        1   \n",
              "12293                                             Hentai  Movie        1   \n",
              "\n",
              "       rating  members  \n",
              "0        9.37   200630  \n",
              "1        9.26   793665  \n",
              "2        9.25   114262  \n",
              "3        9.17   673572  \n",
              "4        9.16   151266  \n",
              "...       ...      ...  \n",
              "12289    4.15      211  \n",
              "12290    4.28      183  \n",
              "12291    4.88      219  \n",
              "12292    4.98      175  \n",
              "12293    5.46      142  \n",
              "\n",
              "[12294 rows x 7 columns]"
            ],
            "text/html": [
              "\n",
              "  <div id=\"df-50167c80-bdff-4fc0-b8fe-1c72fd6777b2\" class=\"colab-df-container\">\n",
              "    <div>\n",
              "<style scoped>\n",
              "    .dataframe tbody tr th:only-of-type {\n",
              "        vertical-align: middle;\n",
              "    }\n",
              "\n",
              "    .dataframe tbody tr th {\n",
              "        vertical-align: top;\n",
              "    }\n",
              "\n",
              "    .dataframe thead th {\n",
              "        text-align: right;\n",
              "    }\n",
              "</style>\n",
              "<table border=\"1\" class=\"dataframe\">\n",
              "  <thead>\n",
              "    <tr style=\"text-align: right;\">\n",
              "      <th></th>\n",
              "      <th>anime_id</th>\n",
              "      <th>name</th>\n",
              "      <th>genre</th>\n",
              "      <th>type</th>\n",
              "      <th>episodes</th>\n",
              "      <th>rating</th>\n",
              "      <th>members</th>\n",
              "    </tr>\n",
              "  </thead>\n",
              "  <tbody>\n",
              "    <tr>\n",
              "      <th>0</th>\n",
              "      <td>32281</td>\n",
              "      <td>Kimi no Na wa.</td>\n",
              "      <td>Drama, Romance, School, Supernatural</td>\n",
              "      <td>Movie</td>\n",
              "      <td>1</td>\n",
              "      <td>9.37</td>\n",
              "      <td>200630</td>\n",
              "    </tr>\n",
              "    <tr>\n",
              "      <th>1</th>\n",
              "      <td>5114</td>\n",
              "      <td>Fullmetal Alchemist: Brotherhood</td>\n",
              "      <td>Action, Adventure, Drama, Fantasy, Magic, Mili...</td>\n",
              "      <td>TV</td>\n",
              "      <td>64</td>\n",
              "      <td>9.26</td>\n",
              "      <td>793665</td>\n",
              "    </tr>\n",
              "    <tr>\n",
              "      <th>2</th>\n",
              "      <td>28977</td>\n",
              "      <td>Gintama°</td>\n",
              "      <td>Action, Comedy, Historical, Parody, Samurai, S...</td>\n",
              "      <td>TV</td>\n",
              "      <td>51</td>\n",
              "      <td>9.25</td>\n",
              "      <td>114262</td>\n",
              "    </tr>\n",
              "    <tr>\n",
              "      <th>3</th>\n",
              "      <td>9253</td>\n",
              "      <td>Steins;Gate</td>\n",
              "      <td>Sci-Fi, Thriller</td>\n",
              "      <td>TV</td>\n",
              "      <td>24</td>\n",
              "      <td>9.17</td>\n",
              "      <td>673572</td>\n",
              "    </tr>\n",
              "    <tr>\n",
              "      <th>4</th>\n",
              "      <td>9969</td>\n",
              "      <td>Gintama&amp;#039;</td>\n",
              "      <td>Action, Comedy, Historical, Parody, Samurai, S...</td>\n",
              "      <td>TV</td>\n",
              "      <td>51</td>\n",
              "      <td>9.16</td>\n",
              "      <td>151266</td>\n",
              "    </tr>\n",
              "    <tr>\n",
              "      <th>...</th>\n",
              "      <td>...</td>\n",
              "      <td>...</td>\n",
              "      <td>...</td>\n",
              "      <td>...</td>\n",
              "      <td>...</td>\n",
              "      <td>...</td>\n",
              "      <td>...</td>\n",
              "    </tr>\n",
              "    <tr>\n",
              "      <th>12289</th>\n",
              "      <td>9316</td>\n",
              "      <td>Toushindai My Lover: Minami tai Mecha-Minami</td>\n",
              "      <td>Hentai</td>\n",
              "      <td>OVA</td>\n",
              "      <td>1</td>\n",
              "      <td>4.15</td>\n",
              "      <td>211</td>\n",
              "    </tr>\n",
              "    <tr>\n",
              "      <th>12290</th>\n",
              "      <td>5543</td>\n",
              "      <td>Under World</td>\n",
              "      <td>Hentai</td>\n",
              "      <td>OVA</td>\n",
              "      <td>1</td>\n",
              "      <td>4.28</td>\n",
              "      <td>183</td>\n",
              "    </tr>\n",
              "    <tr>\n",
              "      <th>12291</th>\n",
              "      <td>5621</td>\n",
              "      <td>Violence Gekiga David no Hoshi</td>\n",
              "      <td>Hentai</td>\n",
              "      <td>OVA</td>\n",
              "      <td>4</td>\n",
              "      <td>4.88</td>\n",
              "      <td>219</td>\n",
              "    </tr>\n",
              "    <tr>\n",
              "      <th>12292</th>\n",
              "      <td>6133</td>\n",
              "      <td>Violence Gekiga Shin David no Hoshi: Inma Dens...</td>\n",
              "      <td>Hentai</td>\n",
              "      <td>OVA</td>\n",
              "      <td>1</td>\n",
              "      <td>4.98</td>\n",
              "      <td>175</td>\n",
              "    </tr>\n",
              "    <tr>\n",
              "      <th>12293</th>\n",
              "      <td>26081</td>\n",
              "      <td>Yasuji no Pornorama: Yacchimae!!</td>\n",
              "      <td>Hentai</td>\n",
              "      <td>Movie</td>\n",
              "      <td>1</td>\n",
              "      <td>5.46</td>\n",
              "      <td>142</td>\n",
              "    </tr>\n",
              "  </tbody>\n",
              "</table>\n",
              "<p>12294 rows × 7 columns</p>\n",
              "</div>\n",
              "    <div class=\"colab-df-buttons\">\n",
              "\n",
              "  <div class=\"colab-df-container\">\n",
              "    <button class=\"colab-df-convert\" onclick=\"convertToInteractive('df-50167c80-bdff-4fc0-b8fe-1c72fd6777b2')\"\n",
              "            title=\"Convert this dataframe to an interactive table.\"\n",
              "            style=\"display:none;\">\n",
              "\n",
              "  <svg xmlns=\"http://www.w3.org/2000/svg\" height=\"24px\" viewBox=\"0 -960 960 960\">\n",
              "    <path d=\"M120-120v-720h720v720H120Zm60-500h600v-160H180v160Zm220 220h160v-160H400v160Zm0 220h160v-160H400v160ZM180-400h160v-160H180v160Zm440 0h160v-160H620v160ZM180-180h160v-160H180v160Zm440 0h160v-160H620v160Z\"/>\n",
              "  </svg>\n",
              "    </button>\n",
              "\n",
              "  <style>\n",
              "    .colab-df-container {\n",
              "      display:flex;\n",
              "      gap: 12px;\n",
              "    }\n",
              "\n",
              "    .colab-df-convert {\n",
              "      background-color: #E8F0FE;\n",
              "      border: none;\n",
              "      border-radius: 50%;\n",
              "      cursor: pointer;\n",
              "      display: none;\n",
              "      fill: #1967D2;\n",
              "      height: 32px;\n",
              "      padding: 0 0 0 0;\n",
              "      width: 32px;\n",
              "    }\n",
              "\n",
              "    .colab-df-convert:hover {\n",
              "      background-color: #E2EBFA;\n",
              "      box-shadow: 0px 1px 2px rgba(60, 64, 67, 0.3), 0px 1px 3px 1px rgba(60, 64, 67, 0.15);\n",
              "      fill: #174EA6;\n",
              "    }\n",
              "\n",
              "    .colab-df-buttons div {\n",
              "      margin-bottom: 4px;\n",
              "    }\n",
              "\n",
              "    [theme=dark] .colab-df-convert {\n",
              "      background-color: #3B4455;\n",
              "      fill: #D2E3FC;\n",
              "    }\n",
              "\n",
              "    [theme=dark] .colab-df-convert:hover {\n",
              "      background-color: #434B5C;\n",
              "      box-shadow: 0px 1px 3px 1px rgba(0, 0, 0, 0.15);\n",
              "      filter: drop-shadow(0px 1px 2px rgba(0, 0, 0, 0.3));\n",
              "      fill: #FFFFFF;\n",
              "    }\n",
              "  </style>\n",
              "\n",
              "    <script>\n",
              "      const buttonEl =\n",
              "        document.querySelector('#df-50167c80-bdff-4fc0-b8fe-1c72fd6777b2 button.colab-df-convert');\n",
              "      buttonEl.style.display =\n",
              "        google.colab.kernel.accessAllowed ? 'block' : 'none';\n",
              "\n",
              "      async function convertToInteractive(key) {\n",
              "        const element = document.querySelector('#df-50167c80-bdff-4fc0-b8fe-1c72fd6777b2');\n",
              "        const dataTable =\n",
              "          await google.colab.kernel.invokeFunction('convertToInteractive',\n",
              "                                                    [key], {});\n",
              "        if (!dataTable) return;\n",
              "\n",
              "        const docLinkHtml = 'Like what you see? Visit the ' +\n",
              "          '<a target=\"_blank\" href=https://colab.research.google.com/notebooks/data_table.ipynb>data table notebook</a>'\n",
              "          + ' to learn more about interactive tables.';\n",
              "        element.innerHTML = '';\n",
              "        dataTable['output_type'] = 'display_data';\n",
              "        await google.colab.output.renderOutput(dataTable, element);\n",
              "        const docLink = document.createElement('div');\n",
              "        docLink.innerHTML = docLinkHtml;\n",
              "        element.appendChild(docLink);\n",
              "      }\n",
              "    </script>\n",
              "  </div>\n",
              "\n",
              "\n",
              "<div id=\"df-3ef7a11b-8e78-482f-ad84-a8dbb7050374\">\n",
              "  <button class=\"colab-df-quickchart\" onclick=\"quickchart('df-3ef7a11b-8e78-482f-ad84-a8dbb7050374')\"\n",
              "            title=\"Suggest charts.\"\n",
              "            style=\"display:none;\">\n",
              "\n",
              "<svg xmlns=\"http://www.w3.org/2000/svg\" height=\"24px\"viewBox=\"0 0 24 24\"\n",
              "     width=\"24px\">\n",
              "    <g>\n",
              "        <path d=\"M19 3H5c-1.1 0-2 .9-2 2v14c0 1.1.9 2 2 2h14c1.1 0 2-.9 2-2V5c0-1.1-.9-2-2-2zM9 17H7v-7h2v7zm4 0h-2V7h2v10zm4 0h-2v-4h2v4z\"/>\n",
              "    </g>\n",
              "</svg>\n",
              "  </button>\n",
              "\n",
              "<style>\n",
              "  .colab-df-quickchart {\n",
              "    background-color: #E8F0FE;\n",
              "    border: none;\n",
              "    border-radius: 50%;\n",
              "    cursor: pointer;\n",
              "    display: none;\n",
              "    fill: #1967D2;\n",
              "    height: 32px;\n",
              "    padding: 0 0 0 0;\n",
              "    width: 32px;\n",
              "  }\n",
              "\n",
              "  .colab-df-quickchart:hover {\n",
              "    background-color: #E2EBFA;\n",
              "    box-shadow: 0px 1px 2px rgba(60, 64, 67, 0.3), 0px 1px 3px 1px rgba(60, 64, 67, 0.15);\n",
              "    fill: #174EA6;\n",
              "  }\n",
              "\n",
              "  [theme=dark] .colab-df-quickchart {\n",
              "    background-color: #3B4455;\n",
              "    fill: #D2E3FC;\n",
              "  }\n",
              "\n",
              "  [theme=dark] .colab-df-quickchart:hover {\n",
              "    background-color: #434B5C;\n",
              "    box-shadow: 0px 1px 3px 1px rgba(0, 0, 0, 0.15);\n",
              "    filter: drop-shadow(0px 1px 2px rgba(0, 0, 0, 0.3));\n",
              "    fill: #FFFFFF;\n",
              "  }\n",
              "</style>\n",
              "\n",
              "  <script>\n",
              "    async function quickchart(key) {\n",
              "      const charts = await google.colab.kernel.invokeFunction(\n",
              "          'suggestCharts', [key], {});\n",
              "    }\n",
              "    (() => {\n",
              "      let quickchartButtonEl =\n",
              "        document.querySelector('#df-3ef7a11b-8e78-482f-ad84-a8dbb7050374 button');\n",
              "      quickchartButtonEl.style.display =\n",
              "        google.colab.kernel.accessAllowed ? 'block' : 'none';\n",
              "    })();\n",
              "  </script>\n",
              "</div>\n",
              "    </div>\n",
              "  </div>\n"
            ]
          },
          "metadata": {},
          "execution_count": 5
        }
      ]
    },
    {
      "cell_type": "markdown",
      "source": [
        "**Define Parameters**\n",
        "\n",
        "**num_items** stores the number of content items in the dataset."
      ],
      "metadata": {
        "id": "kEhO2S9GV67D"
      }
    },
    {
      "cell_type": "code",
      "source": [
        "# Number of content items (anime)\n",
        "num_items = anime_data.shape[0]"
      ],
      "metadata": {
        "id": "By16I-tNT4EF"
      },
      "execution_count": 6,
      "outputs": []
    },
    {
      "cell_type": "markdown",
      "source": [
        "**Epsilon-Greedy Recommendation Strategy**\n",
        "\n",
        "This function implements the epsilon-greedy recommendation strategy. It takes epsilon and num_steps as inputs and simulates user interactions, rewards, and content estimates."
      ],
      "metadata": {
        "id": "7fSNshZWWLFB"
      }
    },
    {
      "cell_type": "code",
      "source": [
        "# Epsilon-greedy recommendation strategy\n",
        "def epsilon_greedy_recommendation(epsilon, num_steps):\n",
        "    content_estimates = np.zeros(num_items) # array to store the estimated rewards (values) for each content item.\n",
        "    engagement_counts = np.zeros(num_items) # array to keep track of how many times each content item has been recommended.\n",
        "    rewards = [] # list to store the rewards obtained in each time step.\n",
        "\n",
        "    for step in range(num_steps):\n",
        "        # Explore with epsilon probability\n",
        "        if np.random.rand() < epsilon:\n",
        "            chosen_content = np.random.choice(num_items)\n",
        "        else:\n",
        "            chosen_content = np.argmax(content_estimates)\n",
        "\n",
        "        # Simulate user engagement (reward) based on random preference and popularity\n",
        "        user_preference = np.random.normal(0, 1)  # Simulated user preference generated by sampling from a normal distribution with a mean of 0 and a standard deviation of 1\n",
        "        reward = user_preference * anime_data.iloc[chosen_content][\"rating\"] * anime_data.iloc[chosen_content][\"members\"]\n",
        "        rewards.append(reward)\n",
        "\n",
        "        # Update content estimates using incremental update\n",
        "        engagement_counts[chosen_content] += 1 # track the number of times the chosen content item has been recommended\n",
        "        content_estimates[chosen_content] += (reward - content_estimates[chosen_content]) / engagement_counts[chosen_content]\n",
        "\n",
        "    return rewards"
      ],
      "metadata": {
        "id": "YAhu2oxOT_Do"
      },
      "execution_count": 7,
      "outputs": []
    },
    {
      "cell_type": "markdown",
      "source": [
        "**Parameters for the recommendation system**\n",
        "\n",
        "epsilon is the exploration parameter for the epsilon-greedy strategy.\n",
        "num_steps is the number of interactions (time steps) in the simulation."
      ],
      "metadata": {
        "id": "B0QWVc7-WWNf"
      }
    },
    {
      "cell_type": "code",
      "source": [
        "# Parameters for the recommendation system\n",
        "epsilon = 0.1\n",
        "num_steps = 1000"
      ],
      "metadata": {
        "id": "FNtd8j9PUFDa"
      },
      "execution_count": 8,
      "outputs": []
    },
    {
      "cell_type": "markdown",
      "source": [
        "**Get Rewards Using Epsilon-Greedy Strategy**\n",
        "\n"
      ],
      "metadata": {
        "id": "P5KWtN4_Wqk_"
      }
    },
    {
      "cell_type": "code",
      "source": [
        "# Get rewards using epsilon-greedy strategy\n",
        "rewards = epsilon_greedy_recommendation(epsilon, num_steps)"
      ],
      "metadata": {
        "id": "EoIeq8yHUG0b"
      },
      "execution_count": 9,
      "outputs": []
    },
    {
      "cell_type": "markdown",
      "source": [
        "**Calculate Cumulative Rewards and Plot**"
      ],
      "metadata": {
        "id": "KauU7NWJW4QT"
      }
    },
    {
      "cell_type": "code",
      "source": [
        "# Calculate cumulative rewards\n",
        "cumulative_rewards = np.cumsum(rewards)"
      ],
      "metadata": {
        "id": "FTl5taRmUHAM"
      },
      "execution_count": 10,
      "outputs": []
    },
    {
      "cell_type": "code",
      "source": [
        "# Plot cumulative rewards over time\n",
        "plt.plot(cumulative_rewards, label='Cumulative Rewards')\n",
        "plt.xlabel('Time Steps')\n",
        "plt.ylabel('Cumulative Rewards')\n",
        "plt.legend()\n",
        "plt.title('Anime Recommendation using Epsilon-Greedy Multi-Arm Bandit')\n",
        "plt.show()"
      ],
      "metadata": {
        "colab": {
          "base_uri": "https://localhost:8080/",
          "height": 487
        },
        "id": "55qokUFhUHOm",
        "outputId": "6f1bfa56-4e0f-4a5a-aa74-54f2b22a346e"
      },
      "execution_count": 11,
      "outputs": [
        {
          "output_type": "display_data",
          "data": {
            "text/plain": [
              "<Figure size 640x480 with 1 Axes>"
            ],
            "image/png": "[encoded data removed]"
          },
          "metadata": {}
        }
      ]
    }
  ]
}