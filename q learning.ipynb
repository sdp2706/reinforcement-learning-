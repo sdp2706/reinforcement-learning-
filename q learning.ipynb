{
  "nbformat": 4,
  "nbformat_minor": 0,
  "metadata": {
    "colab": {
      "provenance": [],
      "authorship_tag": "ABX9TyMznoOm9zhrBn76EuCSoySM",
      "include_colab_link": true
    },
    "kernelspec": {
      "name": "python3",
      "display_name": "Python 3"
    },
    "language_info": {
      "name": "python"
    }
  },
  "cells": [
    {
      "cell_type": "markdown",
      "metadata": {
        "id": "view-in-github",
        "colab_type": "text"
      },
      "source": [
        "<a href=\"https://colab.research.google.com/github/sdp2706/reinforcement-learning-/blob/main/Untitled53.ipynb\" target=\"_parent\"><img src=\"https://colab.research.google.com/assets/colab-badge.svg\" alt=\"Open In Colab\"/></a>"
      ]
    },
    {
      "cell_type": "code",
      "execution_count": 7,
      "metadata": {
        "colab": {
          "base_uri": "https://localhost:8080/"
        },
        "id": "oVcLf_H_R6fp",
        "outputId": "d8724e0f-8bcb-4bb6-ea95-7a188559a710"
      },
      "outputs": [
        {
          "output_type": "execute_result",
          "data": {
            "text/plain": [
              "matrix([[ -1,  -1,  -1,  -1,   0,  -1],\n",
              "        [ -1,  -1,  -1,   0,  -1, 100],\n",
              "        [ -1,  -1,  -1,   0,  -1,  -1],\n",
              "        [ -1,   0,   0,  -1,   0,  -1],\n",
              "        [ -1,   0,   0,  -1,  -1, 100],\n",
              "        [ -1,   0,  -1,  -1,   0, 100]])"
            ]
          },
          "metadata": {},
          "execution_count": 7
        }
      ],
      "source": [
        "import numpy as np\n",
        "#R matrix\n",
        "R = np.matrix([[-1, -1, -1, -1, 0, -1],\n",
        "               [-1, -1, -1 ,0, -1, 100],\n",
        "               [-1, -1, -1, 0, -1, -1],\n",
        "               [-1, 0, 0, -1, 0, -1],\n",
        "               [-1, 0, 0, -1, -1, 100],\n",
        "               [-1, 0, -1, -1, 0, 100]])\n",
        "R"
      ]
    },
    {
      "cell_type": "code",
      "source": [
        "Q = np.matrix(np.zeros([6,6]))\n",
        "Q"
      ],
      "metadata": {
        "colab": {
          "base_uri": "https://localhost:8080/"
        },
        "id": "gzabbkP5SB91",
        "outputId": "efe42352-49ee-437b-abda-ecfe4b62cc09"
      },
      "execution_count": 8,
      "outputs": [
        {
          "output_type": "execute_result",
          "data": {
            "text/plain": [
              "matrix([[0., 0., 0., 0., 0., 0.],\n",
              "        [0., 0., 0., 0., 0., 0.],\n",
              "        [0., 0., 0., 0., 0., 0.],\n",
              "        [0., 0., 0., 0., 0., 0.],\n",
              "        [0., 0., 0., 0., 0., 0.],\n",
              "        [0., 0., 0., 0., 0., 0.]])"
            ]
          },
          "metadata": {},
          "execution_count": 8
        }
      ]
    },
    {
      "cell_type": "code",
      "source": [
        "gamma = 0.8\n",
        "initial_state = 1"
      ],
      "metadata": {
        "id": "GQkhs8CzSEAJ"
      },
      "execution_count": 9,
      "outputs": []
    },
    {
      "cell_type": "code",
      "source": [
        "#this function returns all available actions in the stategiven as an argument\n",
        "def available_actions(state):\n",
        "  current_state_row=R[state,]\n",
        "  av_act = np.where(current_state_row>=0)[1]\n",
        "  return av_act"
      ],
      "metadata": {
        "id": "1YN7CntmSToB"
      },
      "execution_count": 10,
      "outputs": []
    },
    {
      "cell_type": "code",
      "source": [
        "available_act  = available_actions(initial_state)\n",
        "available_act"
      ],
      "metadata": {
        "colab": {
          "base_uri": "https://localhost:8080/"
        },
        "id": "4F7HmG6WSVua",
        "outputId": "2be46b4d-1914-4790-db1f-f438389d6e05"
      },
      "execution_count": 11,
      "outputs": [
        {
          "output_type": "execute_result",
          "data": {
            "text/plain": [
              "array([3, 5])"
            ]
          },
          "metadata": {},
          "execution_count": 11
        }
      ]
    },
    {
      "cell_type": "code",
      "source": [
        "#this function chooses at random which action to be performend with\n",
        "def sample_next_action(available_actions_range):\n",
        "  next_action=int(np.random.choice(available_act,1))\n",
        "  return next_action"
      ],
      "metadata": {
        "id": "RZE9ngkRSeMh"
      },
      "execution_count": 12,
      "outputs": []
    },
    {
      "cell_type": "code",
      "source": [
        "#sample next action to be performed\n",
        "action=sample_next_action(available_act)\n",
        "action"
      ],
      "metadata": {
        "colab": {
          "base_uri": "https://localhost:8080/"
        },
        "id": "qzWBLx7QSpj6",
        "outputId": "e20442ca-4bbe-4d73-a719-85344d55b3ee"
      },
      "execution_count": 13,
      "outputs": [
        {
          "output_type": "execute_result",
          "data": {
            "text/plain": [
              "3"
            ]
          },
          "metadata": {},
          "execution_count": 13
        }
      ]
    },
    {
      "cell_type": "code",
      "source": [
        "#this function updates the Qmatrix according to the path selected\n",
        "def update(current_state, action, game):\n",
        "  max_index = np.where(Q[action,] == np.max(Q[action,]))[1]\n",
        "\n",
        "  if max_index.shape[0]>1:\n",
        "    max_index=int(np.random.choice(max_index,size=1))\n",
        "  else:\n",
        "    max_index=int(max_index)\n",
        "  max_value = Q[action, max_index]\n",
        "\n",
        "  #Q learning formula\n",
        "  Q[current_state,action] = R[current_state,action] + gamma*max_value\n",
        "\n",
        "#update Q matrix\n",
        "update(initial_state, action, gamma)\n",
        "Q"
      ],
      "metadata": {
        "colab": {
          "base_uri": "https://localhost:8080/"
        },
        "id": "C1X_jB7AStDf",
        "outputId": "e32c7a08-df43-426e-f170-bb51f430d2d4"
      },
      "execution_count": 14,
      "outputs": [
        {
          "output_type": "execute_result",
          "data": {
            "text/plain": [
              "matrix([[0., 0., 0., 0., 0., 0.],\n",
              "        [0., 0., 0., 0., 0., 0.],\n",
              "        [0., 0., 0., 0., 0., 0.],\n",
              "        [0., 0., 0., 0., 0., 0.],\n",
              "        [0., 0., 0., 0., 0., 0.],\n",
              "        [0., 0., 0., 0., 0., 0.]])"
            ]
          },
          "metadata": {},
          "execution_count": 14
        }
      ]
    },
    {
      "cell_type": "code",
      "source": [
        "#Training\n",
        "#Train over 10,000 iterations\n",
        "for i in range(10000):\n",
        "  current_state = np.random.randint(0, int(Q.shape[0]))\n",
        "  available_act = available_actions(current_state)\n",
        "  action = sample_next_action(available_act)\n",
        "  update(current_state, action, gamma)\n",
        "print(\"Trained Q matrix\")\n",
        "print(Q/np.max(Q)*100)"
      ],
      "metadata": {
        "colab": {
          "base_uri": "https://localhost:8080/"
        },
        "id": "CgTUR4HwS7Yi",
        "outputId": "0a4ed35a-bb59-48a8-ebaf-dfdac8396185"
      },
      "execution_count": 15,
      "outputs": [
        {
          "output_type": "stream",
          "name": "stdout",
          "text": [
            "Trained Q matrix\n",
            "[[  0.    0.    0.    0.   80.    0. ]\n",
            " [  0.    0.    0.   64.    0.  100. ]\n",
            " [  0.    0.    0.   64.    0.    0. ]\n",
            " [  0.   80.   51.2   0.   80.    0. ]\n",
            " [  0.   80.   51.2   0.    0.  100. ]\n",
            " [  0.   80.    0.    0.   80.  100. ]]\n"
          ]
        }
      ]
    },
    {
      "cell_type": "code",
      "source": [
        "#Testing\n",
        "#goal_state =5\n",
        "current_state =1\n",
        "steps=[current_state]\n",
        "\n",
        "while current_state != 5:\n",
        "  next_step_index=np.where(Q[current_state,] == np.max(Q[current_state],))[1]\n",
        "  if next_step_index.shape[0]>1:\n",
        "    next_step_index=int(np.random.choice(next_step_index,size=1))\n",
        "  else:\n",
        "    next_step_index=int(next_step_index)\n",
        "\n",
        "  steps.append(next_step_index)\n",
        "  current_state = next_step_index\n",
        "#print selected steps\n",
        "steps"
      ],
      "metadata": {
        "colab": {
          "base_uri": "https://localhost:8080/"
        },
        "id": "aVSFpaxtS-m8",
        "outputId": "56a565dc-12af-482e-abb5-2b67538a9099"
      },
      "execution_count": 16,
      "outputs": [
        {
          "output_type": "execute_result",
          "data": {
            "text/plain": [
              "[1, 5]"
            ]
          },
          "metadata": {},
          "execution_count": 16
        }
      ]
    },
    {
      "cell_type": "code",
      "source": [
        "Q"
      ],
      "metadata": {
        "colab": {
          "base_uri": "https://localhost:8080/"
        },
        "id": "krGscGteTFYl",
        "outputId": "5ea60405-fd04-4e02-94a2-77d99715c273"
      },
      "execution_count": 17,
      "outputs": [
        {
          "output_type": "execute_result",
          "data": {
            "text/plain": [
              "matrix([[  0.,   0.,   0.,   0., 400.,   0.],\n",
              "        [  0.,   0.,   0., 320.,   0., 500.],\n",
              "        [  0.,   0.,   0., 320.,   0.,   0.],\n",
              "        [  0., 400., 256.,   0., 400.,   0.],\n",
              "        [  0., 400., 256.,   0.,   0., 500.],\n",
              "        [  0., 400.,   0.,   0., 400., 500.]])"
            ]
          },
          "metadata": {},
          "execution_count": 17
        }
      ]
    }
  ]
}
